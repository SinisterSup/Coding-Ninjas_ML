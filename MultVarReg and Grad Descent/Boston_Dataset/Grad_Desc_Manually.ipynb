{
 "cells": [
  {
   "cell_type": "markdown",
   "id": "d198afc3",
   "metadata": {},
   "source": [
    "# Gradient Descent Algorithm Manually"
   ]
  },
  {
   "cell_type": "markdown",
   "id": "1de305ac",
   "metadata": {},
   "source": [
    "### Importing Data"
   ]
  },
  {
   "cell_type": "code",
   "execution_count": 1,
   "id": "f7e35cde",
   "metadata": {},
   "outputs": [],
   "source": [
    "import pandas as pd\n",
    "import numpy as np\n",
    "import matplotlib.pyplot as plt\n",
    "from sklearn import model_selection"
   ]
  },
  {
   "cell_type": "code",
   "execution_count": 2,
   "id": "198fcb2b",
   "metadata": {},
   "outputs": [],
   "source": [
    "dataframe = pd.read_csv('boston_x_y_train.csv')\n",
    "\n",
    "x = dataframe.drop(dataframe.columns[[-1]], axis = 1, inplace = False)\n",
    "X = x.to_numpy()\n",
    "\n",
    "y = dataframe.drop(dataframe.iloc[:, 0:13], inplace = False, axis = 1)\n",
    "Y = y.to_numpy()\n",
    "Y = np.reshape(Y, -1)"
   ]
  },
  {
   "cell_type": "code",
   "execution_count": 3,
   "id": "229a716d",
   "metadata": {},
   "outputs": [
    {
     "name": "stdout",
     "output_type": "stream",
     "text": [
      "[[-0.40784991 -0.48772236 -1.2660231  ... -1.09799011  0.\n",
      "  37.9       ]\n",
      " [-0.40737368 -0.48772236  0.24705682 ... -0.52047412  0.\n",
      "  21.4       ]\n",
      " [ 0.1251786  -0.48772236  1.01599907 ...  0.89107588  0.\n",
      "  12.7       ]\n",
      " ...\n",
      " [-0.40831101 -0.48772236  0.24705682 ... -0.33404299  0.\n",
      "  20.8       ]\n",
      " [-0.41061997 -0.48772236 -1.15221381 ... -0.74475218  0.\n",
      "  22.6       ]\n",
      " [ 0.34290895 -0.48772236  1.01599907 ... -1.35871335  0.\n",
      "  50.        ]]\n",
      "       # CRIM        ZN     INDUS      CHAS       NOX        RM       AGE  \\\n",
      "0   -0.407850 -0.487722 -1.266023 -0.272599 -0.576134  1.239974  0.840122   \n",
      "1   -0.407374 -0.487722  0.247057 -0.272599 -1.016689  0.001946 -0.838337   \n",
      "2    0.125179 -0.487722  1.015999 -0.272599  1.367490 -0.439699  0.687212   \n",
      "3    0.028304 -0.487722  1.015999 -0.272599  1.859875 -0.047918  0.801005   \n",
      "4   -0.412408 -0.487722 -0.969827 -0.272599 -0.913029 -0.384137 -0.834781   \n",
      "..        ...       ...       ...       ...       ...       ...       ...   \n",
      "374 -0.204929 -0.487722  1.231945  3.668398  0.434551  2.161728  1.053485   \n",
      "375  0.231398 -0.487722  1.015999 -0.272599  1.367490  0.215644  0.687212   \n",
      "376 -0.408311 -0.487722  0.247057 -0.272599 -1.016689 -0.206055 -0.809889   \n",
      "377 -0.410620 -0.487722 -1.152214 -0.272599 -0.818007  0.068904 -1.826921   \n",
      "378  0.342909 -0.487722  1.015999  3.668398  0.659147  1.041946  1.028593   \n",
      "\n",
      "          DIS       RAD       TAX   PTRATIO         B     LSTAT    C     Y  \n",
      "0   -0.520264 -0.752922 -1.278354 -0.303094  0.410571 -1.097990  0.0  37.9  \n",
      "1    0.336351 -0.523001 -0.060801  0.113032  0.291169 -0.520474  0.0  21.4  \n",
      "2   -0.577309  1.661245  1.530926  0.806576 -3.795795  0.891076  0.0  12.7  \n",
      "3   -0.712836  1.661245  1.530926  0.806576 -0.066050  0.215438  0.0  19.9  \n",
      "4    0.300508 -0.752922 -0.957633  0.020560  0.431074  0.029007  0.0  22.5  \n",
      "..        ...       ...       ...       ...       ...       ...  ...   ...  \n",
      "374 -0.833960 -0.523001 -0.031105 -1.736418  0.361122 -1.504494  0.0  50.0  \n",
      "375 -0.703186  1.661245  1.530926  0.806576 -2.812183  0.499991  0.0  14.3  \n",
      "376  0.140451 -0.523001 -0.060801  0.113032  0.332066 -0.334043  0.0  20.8  \n",
      "377  0.674814 -0.637962  0.129256 -0.719220  0.203235 -0.744752  0.0  22.6  \n",
      "378 -1.232462  1.661245  1.530926  0.806576  0.387875 -1.358713  0.0  50.0  \n",
      "\n",
      "[379 rows x 15 columns]\n"
     ]
    }
   ],
   "source": [
    "x_y = dataframe.copy()\n",
    "\n",
    "x_y.insert(13, 'C', np.zeros(len(x_y)), True)  \n",
    "X_Y = x_y.to_numpy()\n",
    "print(X_Y)\n",
    "print(x_y)"
   ]
  },
  {
   "cell_type": "code",
   "execution_count": 4,
   "id": "7d3184c3",
   "metadata": {},
   "outputs": [],
   "source": [
    "x_train, x_test, y_train, y_test = model_selection.train_test_split(X, Y)"
   ]
  },
  {
   "cell_type": "code",
   "execution_count": 5,
   "id": "713254b9",
   "metadata": {},
   "outputs": [
    {
     "name": "stdout",
     "output_type": "stream",
     "text": [
      "(284, 13)\n",
      "(95, 13)\n",
      "(284,)\n",
      "(95,)\n"
     ]
    }
   ],
   "source": [
    "print(x_train.shape)\n",
    "print(x_test.shape)\n",
    "print(y_train.shape)\n",
    "print(y_test.shape)"
   ]
  },
  {
   "cell_type": "markdown",
   "id": "6e6869f9",
   "metadata": {},
   "source": [
    "## Manual Definition of Gradient_Descent"
   ]
  },
  {
   "cell_type": "code",
   "execution_count": 6,
   "id": "7323337e",
   "metadata": {},
   "outputs": [],
   "source": [
    "def cost(points, m):\n",
    "    total_cost = 0 \n",
    "    M = len(points)\n",
    "    for i in range(M):\n",
    "        x = points[i, :-1]\n",
    "        y = points[i, -1]\n",
    "        for j in range(len(points[0,:-1])):    \n",
    "            total_cost += (1/M)*((y - m[j]*x[j])**2)\n",
    "    return total_cost"
   ]
  },
  {
   "cell_type": "code",
   "execution_count": 7,
   "id": "00feec90",
   "metadata": {},
   "outputs": [],
   "source": [
    "def step_grad(points, learning_rate, m):\n",
    "    m_slope = np.zeros(len(points[0,:-1]))\n",
    "    M = len(points)\n",
    "    for i in range(M):\n",
    "        x = points[i, :-1]\n",
    "        y = points[i, -1]\n",
    "        for j in range(len(points[0,:-1])):\n",
    "            m_slope += (-2/M)*(y - m[j]*x[j])*x[j]\n",
    "            new_m = m - learning_rate*m_slope\n",
    "    return new_m"
   ]
  },
  {
   "cell_type": "code",
   "execution_count": 8,
   "id": "2c2fefc3",
   "metadata": {},
   "outputs": [],
   "source": [
    "def grad_desc(points, learning_rate, num_iterations):\n",
    "    m = np.zeros(len(points[0,:-1]))\n",
    "    \n",
    "    for i in range(num_iterations):\n",
    "        #for j in range(len(points[0,:-1])):\n",
    "        m = step_grad(points, learning_rate, m)\n",
    "        # print(i, 'Cost:', cost(points, m))\n",
    "    return m"
   ]
  },
  {
   "cell_type": "code",
   "execution_count": 9,
   "id": "bf91b1a8",
   "metadata": {},
   "outputs": [],
   "source": [
    "def run():\n",
    "    data = X_Y\n",
    "    learning_rate = 0.0001\n",
    "    num_iterations = 1000\n",
    "    m_arr = grad_desc(data, learning_rate, num_iterations)\n",
    "    return m_arr"
   ]
  },
  {
   "cell_type": "code",
   "execution_count": 10,
   "id": "6feb9366",
   "metadata": {},
   "outputs": [],
   "source": [
    "def y_predict(x_test_frame, m_arr):\n",
    "    y = np.zeros(len(x_test))\n",
    "    for i in range(len(x_test)):\n",
    "        for j in range(len(m_arr[:-1])):\n",
    "            y[i] += m_arr[j]*x_test[i,j]\n",
    "        y[i] += m_arr[-1]\n",
    "    return y"
   ]
  },
  {
   "cell_type": "code",
   "execution_count": 11,
   "id": "4e4e128d",
   "metadata": {},
   "outputs": [],
   "source": [
    "Y_Pred = y_predict(x_test, run())"
   ]
  },
  {
   "cell_type": "code",
   "execution_count": 12,
   "id": "a330dde1",
   "metadata": {},
   "outputs": [],
   "source": [
    "np.savetxt(\"Boston_result_man.csv\",Y_Pred,delimiter=\",\",fmt='%f')"
   ]
  }
 ],
 "metadata": {
  "kernelspec": {
   "display_name": "Python 3 (ipykernel)",
   "language": "python",
   "name": "python3"
  },
  "language_info": {
   "codemirror_mode": {
    "name": "ipython",
    "version": 3
   },
   "file_extension": ".py",
   "mimetype": "text/x-python",
   "name": "python",
   "nbconvert_exporter": "python",
   "pygments_lexer": "ipython3",
   "version": "3.9.12"
  }
 },
 "nbformat": 4,
 "nbformat_minor": 5
}
