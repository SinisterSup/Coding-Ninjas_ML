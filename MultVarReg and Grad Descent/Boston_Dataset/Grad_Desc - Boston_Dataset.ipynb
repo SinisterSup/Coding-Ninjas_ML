{
 "cells": [
  {
   "cell_type": "code",
   "execution_count": 18,
   "id": "d3fc61b1",
   "metadata": {},
   "outputs": [],
   "source": [
    "import pandas as pd\n",
    "import numpy as np\n",
    "import matplotlib.pyplot as plt\n",
    "from sklearn import model_selection"
   ]
  },
  {
   "cell_type": "code",
   "execution_count": 19,
   "id": "853a4d9c",
   "metadata": {},
   "outputs": [],
   "source": [
    "dataframe = pd.read_csv('boston_x_y_train.csv')\n",
    "\n",
    "x = dataframe.drop(dataframe.columns[[-1]], axis = 1, inplace = False)\n",
    "X = x.to_numpy()\n",
    "\n",
    "y = dataframe.drop(dataframe.iloc[:, 0:13], inplace = False, axis = 1)\n",
    "Y = y.to_numpy()\n",
    "Y = np.reshape(Y, -1)\n"
   ]
  },
  {
   "cell_type": "code",
   "execution_count": 20,
   "id": "2bf14ddd",
   "metadata": {},
   "outputs": [
    {
     "name": "stdout",
     "output_type": "stream",
     "text": [
      "[[-0.40784991 -0.48772236 -1.2660231  ... -1.09799011  0.\n",
      "  37.9       ]\n",
      " [-0.40737368 -0.48772236  0.24705682 ... -0.52047412  0.\n",
      "  21.4       ]\n",
      " [ 0.1251786  -0.48772236  1.01599907 ...  0.89107588  0.\n",
      "  12.7       ]\n",
      " ...\n",
      " [-0.40831101 -0.48772236  0.24705682 ... -0.33404299  0.\n",
      "  20.8       ]\n",
      " [-0.41061997 -0.48772236 -1.15221381 ... -0.74475218  0.\n",
      "  22.6       ]\n",
      " [ 0.34290895 -0.48772236  1.01599907 ... -1.35871335  0.\n",
      "  50.        ]]\n",
      "       # CRIM        ZN     INDUS      CHAS       NOX        RM       AGE  \\\n",
      "0   -0.407850 -0.487722 -1.266023 -0.272599 -0.576134  1.239974  0.840122   \n",
      "1   -0.407374 -0.487722  0.247057 -0.272599 -1.016689  0.001946 -0.838337   \n",
      "2    0.125179 -0.487722  1.015999 -0.272599  1.367490 -0.439699  0.687212   \n",
      "3    0.028304 -0.487722  1.015999 -0.272599  1.859875 -0.047918  0.801005   \n",
      "4   -0.412408 -0.487722 -0.969827 -0.272599 -0.913029 -0.384137 -0.834781   \n",
      "..        ...       ...       ...       ...       ...       ...       ...   \n",
      "374 -0.204929 -0.487722  1.231945  3.668398  0.434551  2.161728  1.053485   \n",
      "375  0.231398 -0.487722  1.015999 -0.272599  1.367490  0.215644  0.687212   \n",
      "376 -0.408311 -0.487722  0.247057 -0.272599 -1.016689 -0.206055 -0.809889   \n",
      "377 -0.410620 -0.487722 -1.152214 -0.272599 -0.818007  0.068904 -1.826921   \n",
      "378  0.342909 -0.487722  1.015999  3.668398  0.659147  1.041946  1.028593   \n",
      "\n",
      "          DIS       RAD       TAX   PTRATIO         B     LSTAT    C     Y  \n",
      "0   -0.520264 -0.752922 -1.278354 -0.303094  0.410571 -1.097990  0.0  37.9  \n",
      "1    0.336351 -0.523001 -0.060801  0.113032  0.291169 -0.520474  0.0  21.4  \n",
      "2   -0.577309  1.661245  1.530926  0.806576 -3.795795  0.891076  0.0  12.7  \n",
      "3   -0.712836  1.661245  1.530926  0.806576 -0.066050  0.215438  0.0  19.9  \n",
      "4    0.300508 -0.752922 -0.957633  0.020560  0.431074  0.029007  0.0  22.5  \n",
      "..        ...       ...       ...       ...       ...       ...  ...   ...  \n",
      "374 -0.833960 -0.523001 -0.031105 -1.736418  0.361122 -1.504494  0.0  50.0  \n",
      "375 -0.703186  1.661245  1.530926  0.806576 -2.812183  0.499991  0.0  14.3  \n",
      "376  0.140451 -0.523001 -0.060801  0.113032  0.332066 -0.334043  0.0  20.8  \n",
      "377  0.674814 -0.637962  0.129256 -0.719220  0.203235 -0.744752  0.0  22.6  \n",
      "378 -1.232462  1.661245  1.530926  0.806576  0.387875 -1.358713  0.0  50.0  \n",
      "\n",
      "[379 rows x 15 columns]\n"
     ]
    }
   ],
   "source": [
    "x_y = dataframe.copy()\n",
    "\n",
    "x_y.insert(13, 'C', np.zeros(len(x_y)), True)  \n",
    "X_Y = x_y.to_numpy()\n",
    "print(X_Y)\n",
    "print(x_y)"
   ]
  },
  {
   "cell_type": "code",
   "execution_count": null,
   "id": "c383e334",
   "metadata": {},
   "outputs": [],
   "source": [
    "print(x)\n",
    "print(y)"
   ]
  },
  {
   "cell_type": "code",
   "execution_count": null,
   "id": "31589c67",
   "metadata": {},
   "outputs": [],
   "source": [
    "print(X)\n",
    "print(Y)"
   ]
  },
  {
   "cell_type": "code",
   "execution_count": 21,
   "id": "291b849b",
   "metadata": {},
   "outputs": [],
   "source": [
    "x_train, x_test, y_train, y_test = model_selection.train_test_split(X, Y)"
   ]
  },
  {
   "cell_type": "code",
   "execution_count": 22,
   "id": "fc2b7439",
   "metadata": {},
   "outputs": [
    {
     "name": "stdout",
     "output_type": "stream",
     "text": [
      "(284, 13)\n",
      "(95, 13)\n",
      "(284,)\n",
      "(95,)\n"
     ]
    }
   ],
   "source": [
    "print(x_train.shape)\n",
    "print(x_test.shape)\n",
    "print(y_train.shape)\n",
    "print(y_test.shape)"
   ]
  },
  {
   "cell_type": "markdown",
   "id": "686ea4e2",
   "metadata": {},
   "source": [
    "# Gradient_Descnt Inbuilt in SciKit-learn"
   ]
  },
  {
   "cell_type": "code",
   "execution_count": 23,
   "id": "3ddeb01d",
   "metadata": {},
   "outputs": [],
   "source": [
    "from sklearn.ensemble import GradientBoostingRegressor\n",
    "grad_alg1 = GradientBoostingRegressor()"
   ]
  },
  {
   "cell_type": "code",
   "execution_count": 24,
   "id": "c9000e33",
   "metadata": {},
   "outputs": [
    {
     "data": {
      "text/plain": [
       "GradientBoostingRegressor()"
      ]
     },
     "execution_count": 24,
     "metadata": {},
     "output_type": "execute_result"
    }
   ],
   "source": [
    "grad_alg1.fit(x_train, y_train)"
   ]
  },
  {
   "cell_type": "code",
   "execution_count": null,
   "id": "ecb6990e",
   "metadata": {},
   "outputs": [],
   "source": [
    "'''from sklearn.linear_model import SGDRegressor\n",
    "from sklearn.pipeline import make_pipeline\n",
    "from sklearn.preprocessing import StandardScaler\n",
    "\n",
    "reg = make_pipeline(StandardScaler(), SGDRegressor(max_iter=1000, tol=1e-3))\n",
    "reg.fit(x_train, y_train)'''"
   ]
  },
  {
   "cell_type": "code",
   "execution_count": 25,
   "id": "a184f0db",
   "metadata": {},
   "outputs": [
    {
     "name": "stdout",
     "output_type": "stream",
     "text": [
      "[ 6.9309672  20.72773789 19.1167124  24.63282773 40.48921899 32.46100221\n",
      " 39.87502138 20.59668011 20.41263254 14.73538457 23.70522881 20.48410316\n",
      " 16.6510938  19.23353635 16.80784708 17.30594827 27.67767082 16.79878277\n",
      " 12.93166888 12.9845823  17.59328384 18.98884299 19.5504461  24.56725896\n",
      " 23.96514502 17.40862356 40.76751197 15.85544099 23.10954278 20.55139779\n",
      " 46.62719594 19.98407041 13.51799355 17.26828443 14.8055693  15.46615481\n",
      " 21.24431018 20.38735777 37.92222004 20.43291057 45.88976812 24.72445024\n",
      " 43.48533567 11.84304376 23.39352513 20.56049899 25.19136516 40.47120428\n",
      " 30.17860534 21.74101761 16.79394126 22.84856161 40.74855138 21.13325774\n",
      " 10.02716322 26.5983241  35.66192214 16.62063968 15.07187511 22.97773168\n",
      " 29.71439226 23.32697955 17.18465897 34.29357857 18.03888125 19.05795831\n",
      " 34.28188283 19.04651968 27.73341952 18.50136857 13.83355663 10.40366845\n",
      " 11.06216529 16.76683761 49.98994262 17.73059596 35.92770513 23.12324945\n",
      " 32.80043601  8.81672832 23.66086173 26.30442561  7.49840815 29.44961272\n",
      " 32.31833223 47.15749372 15.83899604 18.13115648 23.48153901 11.34900487\n",
      " 23.39004846 26.52254878 17.89849126 24.68519103 23.917023  ]\n"
     ]
    }
   ],
   "source": [
    "y_pred = grad_alg1.predict(x_test)\n",
    "print(y_pred)"
   ]
  },
  {
   "cell_type": "code",
   "execution_count": 26,
   "id": "87d0a53d",
   "metadata": {},
   "outputs": [
    {
     "data": {
      "image/png": "[encoded data removed]",
      "text/plain": [
       "<Figure size 432x288 with 1 Axes>"
      ]
     },
     "metadata": {
      "needs_background": "light"
     },
     "output_type": "display_data"
    }
   ],
   "source": [
    "plt.scatter(y_test, y_pred)\n",
    "plt.show()"
   ]
  },
  {
   "cell_type": "markdown",
   "id": "122b4962",
   "metadata": {},
   "source": [
    "## Writing Predictions File"
   ]
  },
  {
   "cell_type": "code",
   "execution_count": 27,
   "id": "718874d2",
   "metadata": {},
   "outputs": [
    {
     "name": "stdout",
     "output_type": "stream",
     "text": [
      "[[ 2.91816626 -0.48772236  1.01599907 ...  0.80657583 -1.59755122\n",
      "   1.04106182]\n",
      " [-0.40339151 -0.48772236  0.40609801 ... -1.13534664  0.44105193\n",
      "  -0.89473812]\n",
      " [-0.4131781  -0.48772236  0.11573841 ...  1.17646583  0.44105193\n",
      "  -0.50084979]\n",
      " ...\n",
      " [-0.41001449  2.08745172 -1.37837329 ... -0.0719129   0.39094481\n",
      "  -0.68167397]\n",
      " [-0.40317611 -0.48772236 -0.37597609 ...  1.13022958  0.34007019\n",
      "   0.20142086]\n",
      " [-0.13356344 -0.48772236  1.2319449  ... -1.73641788 -2.93893082\n",
      "   0.48877712]]\n"
     ]
    }
   ],
   "source": [
    "df_test = np.loadtxt('boston_x_test.csv', delimiter = ',')\n",
    "print(df_test) "
   ]
  },
  {
   "cell_type": "code",
   "execution_count": 28,
   "id": "8512cd54",
   "metadata": {},
   "outputs": [
    {
     "name": "stdout",
     "output_type": "stream",
     "text": [
      "[13.46774103 26.53901344 18.23719373 23.31542179 20.71833886 11.34861087\n",
      " 28.23448241 27.20466005 18.58592906 22.82082365 24.08562654 17.75950066\n",
      " 19.61025512 20.38437755 52.96808651 20.96252357 23.27880242 23.12023942\n",
      " 19.75771782 29.79071278 21.25672187 20.39336035 35.83944324 30.35875503\n",
      " 32.07693164 17.19926228 20.36188922 28.81754768 19.67452244 29.1592\n",
      " 16.45212848 23.62034466 19.6685148  22.55763194 10.20390203 24.19012353\n",
      " 23.05897269 20.17811086 22.95072932  8.94014349 20.85369711 23.9735732\n",
      " 24.1239387  19.11217373 21.76127404 10.58298037 41.72913261 23.67475093\n",
      " 34.59571904 15.26755332 14.31293613 48.1683396  14.2130776  20.30637018\n",
      " 16.15939761 20.45624291 19.5456077  20.70055383 15.37673559 16.8606984\n",
      " 13.68366505 28.37367492 22.28453146 24.04134008 15.70492237 18.38155187\n",
      " 32.73550749 15.78190718 20.00785139 21.91985999 26.36243001 22.13995041\n",
      " 16.7781061   8.26175346 35.83279145 22.37415144 24.28390379 23.95684606\n",
      " 10.28619907 32.95299017 19.76500788 20.24955299 21.2902538  17.86598727\n",
      " 16.44482212 37.40848803 27.65830679  8.99155207 22.03037747 18.31178277\n",
      " 21.30286036 17.87306032 18.9067948  10.74936221 21.74662553 24.47592391\n",
      " 45.70662946 19.21494846 35.24351571 24.18847645 23.66339123 21.47675704\n",
      " 21.35519779 24.16498355 14.26748715 24.93572494 22.36249845 44.40977441\n",
      " 22.50668888 14.82730926 23.10285969 18.13380749 17.97126842 17.7681742\n",
      " 42.94102638 17.67714258 19.8403273  24.72125649 22.01873754 18.05208956\n",
      " 13.93142496 32.9929199  22.36270067 21.66997371 24.01112334 20.23444505\n",
      " 16.29349438]\n"
     ]
    }
   ],
   "source": [
    "new_y_Pred = grad_alg1.predict(df_test)\n",
    "print(new_y_Pred)"
   ]
  },
  {
   "cell_type": "code",
   "execution_count": null,
   "id": "f4addfff",
   "metadata": {},
   "outputs": [],
   "source": [
    "'''with open('Boston_result.csv', 'w') as out:\n",
    "    out_data = csv.writer(out, delimiter = ',')\n",
    "    out_data.writerow(new_y_Pred)\n",
    "print('Done')'''"
   ]
  },
  {
   "cell_type": "code",
   "execution_count": 29,
   "id": "fc4e2612",
   "metadata": {},
   "outputs": [],
   "source": [
    "np.savetxt(\"Boston_result.csv\",new_y_Pred,delimiter=\",\",fmt='%f')"
   ]
  }
 ],
 "metadata": {
  "kernelspec": {
   "display_name": "Python 3 (ipykernel)",
   "language": "python",
   "name": "python3"
  },
  "language_info": {
   "codemirror_mode": {
    "name": "ipython",
    "version": 3
   },
   "file_extension": ".py",
   "mimetype": "text/x-python",
   "name": "python",
   "nbconvert_exporter": "python",
   "pygments_lexer": "ipython3",
   "version": "3.9.12"
  }
 },
 "nbformat": 4,
 "nbformat_minor": 5
}
