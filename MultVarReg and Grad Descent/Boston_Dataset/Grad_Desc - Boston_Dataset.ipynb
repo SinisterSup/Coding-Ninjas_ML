{
 "cells": [
  {
   "cell_type": "code",
   "execution_count": 1,
   "id": "d3fc61b1",
   "metadata": {},
   "outputs": [],
   "source": [
    "import pandas as pd\n",
    "import numpy as np\n",
    "import matplotlib.pyplot as plt\n",
    "from sklearn import model_selection"
   ]
  },
  {
   "cell_type": "code",
   "execution_count": 2,
   "id": "853a4d9c",
   "metadata": {},
   "outputs": [],
   "source": [
    "dataframe = pd.read_csv('boston_x_y_train.csv')\n",
    "\n",
    "x = dataframe.drop(dataframe.columns[[-1]], axis = 1, inplace = False)\n",
    "X = x.to_numpy()\n",
    "\n",
    "y = dataframe.drop(dataframe.iloc[:, 0:13], inplace = False, axis = 1)\n",
    "Y = y.to_numpy()\n",
    "Y = np.reshape(Y, -1)\n"
   ]
  },
  {
   "cell_type": "code",
   "execution_count": null,
   "id": "c383e334",
   "metadata": {},
   "outputs": [],
   "source": [
    "print(x)\n",
    "print(y)"
   ]
  },
  {
   "cell_type": "code",
   "execution_count": 3,
   "id": "31589c67",
   "metadata": {},
   "outputs": [
    {
     "name": "stdout",
     "output_type": "stream",
     "text": [
      "[[-0.40784991 -0.48772236 -1.2660231  ... -0.30309415  0.41057102\n",
      "  -1.09799011]\n",
      " [-0.40737368 -0.48772236  0.24705682 ...  0.1130321   0.29116915\n",
      "  -0.52047412]\n",
      " [ 0.1251786  -0.48772236  1.01599907 ...  0.80657583 -3.79579542\n",
      "   0.89107588]\n",
      " ...\n",
      " [-0.40831101 -0.48772236  0.24705682 ...  0.1130321   0.33206621\n",
      "  -0.33404299]\n",
      " [-0.41061997 -0.48772236 -1.15221381 ... -0.71922039  0.203235\n",
      "  -0.74475218]\n",
      " [ 0.34290895 -0.48772236  1.01599907 ...  0.80657583  0.38787479\n",
      "  -1.35871335]]\n",
      "[37.9 21.4 12.7 19.9 22.5 32.7 23.2 21.5 20.5 33.3 23.1 20.  50.  25.\n",
      " 20.2 16.4 22.4 20.4 18.4 37.3 23.1 34.7 33.1 28.7 15.6 18.2 17.2 31.5\n",
      " 26.6 24.1 22.3 19.5 36.1 17.6 33.4  8.8  9.7 13.4 39.8 24.4 17.8 24.3\n",
      " 24.  23.1 13.1 16.7 22.8 27.5 14.6 13.4 11.  19.4 15.  44.8 29.6 12.3\n",
      " 24.6 10.9 28.  30.8 15.4 18.  35.2 11.5 19.5 24.8 22.2 20.1 15.2 50.\n",
      " 17.1 23.  12.  22.  20.  20.3 17.2 37.2  5.  24.5 18.9 24.5 24.8 21.6\n",
      "  7.  17.7 12.8 14.9 18.3 15.6 19.9 22.2 16.7 32.5 25.1 30.1 16.1 20.7\n",
      " 46.  22.3 23.  11.9 23.3 23.2 22.  10.5 17.2 29.8 29.  17.3 20.6 20.1\n",
      " 20.6 17.8 25.  22.6 18.7 11.3  9.6 17.8 23.9 38.7 21.2 25.  28.5 24.\n",
      " 20.6  5.  22.9 18.4 31.  36.  20.8 13.3 23.2 28.2 43.8 26.6 23.9 23.9\n",
      " 27.9 19.1 30.5  8.3  8.5 16.5 23.8 19.6 22.2 24.3 32.  26.2 21.7 20.6\n",
      " 20.   7.5 33.  14.9 14.8 50.  26.4 19.7 15.6 25.  22.7 15.2 37.  31.6\n",
      " 19.3 15.6  8.1 23.7 32.  42.8 21.4 31.6 14.1 27.5 22.5 13.6  7.4 18.8\n",
      " 50.  30.1 10.4 14.5 41.7 14.6 23.7 16.1 32.2 14.2 50.  23.  19.1 15.\n",
      " 15.  18.5 10.4 24.7 36.5 21.7 48.3 27.5 12.6 36.2 29.9 43.5 19.6 19.4\n",
      " 11.8 34.9 17.8 14.  16.2 20.  21.1 16.6 18.9 14.5 19.3 25.  18.9 31.1\n",
      "  8.3 17.9 22.1 19.5 20.6 20.9 20.4 16.8 12.1 15.7 32.9 34.9 14.3 11.7\n",
      " 30.1 25.  29.1 33.1 36.2 24.4 22.9 50.  15.2 46.7  5.6 13.8  7.2 27.1\n",
      " 26.5 18.5 22.  21.9 18.1 16.  17.5 12.5 28.7 18.7 23.1 13.3 21.  17.\n",
      "  8.4 13.2 22.8 23.8 20.4 45.4 19.2 22.9  9.5 20.1 18.5 19.4 30.7 18.5\n",
      " 50.  27.5 33.2 31.7 18.4 27.9 18.3 20.2 23.1  8.4 48.8 13.8 25.3 31.2\n",
      " 16.5 18.8 24.4 16.2 13.4 31.5 23.7 21.9 25.  20.  26.6 22.9 19.9 23.7\n",
      " 24.5 37.6 13.5 19.5 24.4 34.6 22.2 24.7 14.1 33.2 19.3 19.8 50.  13.1\n",
      " 19.  19.1 36.4 35.4 23.5  7.2 15.3 21.8 17.4 22.6  8.5 24.8 18.2 21.7\n",
      " 17.4 50.  27.1  6.3 24.2 24.3 19.4 17.4  8.7 17.8 19.6 43.1 20.1 10.8\n",
      " 22.  21.2 24.1 28.7 16.6  7.  22.7 27.  13.5 16.1 21.4 24.6 20.1 50.\n",
      " 12.7 23.1 21.1 13.3 13.9 21.7 23.9 20.3 13.6 20.8 50.  14.3 20.8 22.6\n",
      " 50. ]\n"
     ]
    }
   ],
   "source": [
    "print(X)\n",
    "print(Y)"
   ]
  },
  {
   "cell_type": "code",
   "execution_count": 4,
   "id": "291b849b",
   "metadata": {},
   "outputs": [],
   "source": [
    "x_train, x_test, y_train, y_test = model_selection.train_test_split(X, Y)"
   ]
  },
  {
   "cell_type": "code",
   "execution_count": 5,
   "id": "fc2b7439",
   "metadata": {},
   "outputs": [
    {
     "name": "stdout",
     "output_type": "stream",
     "text": [
      "(284, 13)\n",
      "(95, 13)\n",
      "(284,)\n",
      "(95,)\n"
     ]
    }
   ],
   "source": [
    "print(x_train.shape)\n",
    "print(x_test.shape)\n",
    "print(y_train.shape)\n",
    "print(y_test.shape)"
   ]
  },
  {
   "cell_type": "markdown",
   "id": "686ea4e2",
   "metadata": {},
   "source": [
    "# Gradient_Descnt Inbuilt in SciKit-learn"
   ]
  },
  {
   "cell_type": "code",
   "execution_count": 6,
   "id": "3ddeb01d",
   "metadata": {},
   "outputs": [],
   "source": [
    "from sklearn.ensemble import GradientBoostingRegressor\n",
    "grad_alg1 = GradientBoostingRegressor()"
   ]
  },
  {
   "cell_type": "code",
   "execution_count": 7,
   "id": "c9000e33",
   "metadata": {},
   "outputs": [
    {
     "data": {
      "text/plain": [
       "GradientBoostingRegressor()"
      ]
     },
     "execution_count": 7,
     "metadata": {},
     "output_type": "execute_result"
    }
   ],
   "source": [
    "grad_alg1.fit(x_train, y_train)"
   ]
  },
  {
   "cell_type": "code",
   "execution_count": null,
   "id": "ecb6990e",
   "metadata": {},
   "outputs": [],
   "source": [
    "'''from sklearn.linear_model import SGDRegressor\n",
    "from sklearn.pipeline import make_pipeline\n",
    "from sklearn.preprocessing import StandardScaler\n",
    "\n",
    "reg = make_pipeline(StandardScaler(), SGDRegressor(max_iter=1000, tol=1e-3))\n",
    "reg.fit(x_train, y_train)'''"
   ]
  },
  {
   "cell_type": "code",
   "execution_count": 8,
   "id": "a184f0db",
   "metadata": {},
   "outputs": [
    {
     "name": "stdout",
     "output_type": "stream",
     "text": [
      "[21.53183076 18.64509968 16.53846953 25.91325013 20.78713848 34.34769872\n",
      " 22.39611313 18.24635577 19.69196954 31.47688877 38.29855863  8.70241819\n",
      " 35.18712715 22.41803532 21.21000047 27.69557758 41.68571956 26.00787194\n",
      " 19.05275437 19.38012104 11.95108527 16.76053464 19.42435116 12.30565805\n",
      " 25.12421147 13.79965058 21.23948176 26.40593024 27.40473722 15.7412569\n",
      " 11.49709    20.53712652 45.73064712 36.62369085 21.22926684 40.97673626\n",
      " 22.84079847 23.69428435 16.03624643 33.54113067 21.97829639 24.26507782\n",
      "  9.36130781 23.93044717 17.85146131 17.90425436 19.31302204 25.16460439\n",
      " 24.98748161 15.78295189 16.00144873 20.37311725 23.48302699 32.90898376\n",
      " 24.06850059 19.42074262 21.97829639 25.00208434 18.82532173 21.25405886\n",
      " 22.08739121 34.69967782 24.15010944 24.77019476 19.17046715  7.82144409\n",
      " 15.93164544 15.04151729 18.84671844 12.13317101 14.74459379 15.60254719\n",
      " 13.0863121  24.00250554 44.32123677  8.80100175 21.49612336 19.76194254\n",
      "  5.87765882 21.04287875 14.95560304 30.89264339 15.20696665 13.48501096\n",
      " 18.57133251 25.99148439 22.14259517 21.43311504 21.47868852 19.04153333\n",
      " 46.95872955 17.74932359 11.58872065 41.13782464 22.47773881]\n"
     ]
    }
   ],
   "source": [
    "y_pred = grad_alg1.predict(x_test)\n",
    "print(y_pred)"
   ]
  },
  {
   "cell_type": "code",
   "execution_count": 9,
   "id": "87d0a53d",
   "metadata": {},
   "outputs": [
    {
     "data": {
      "image/png": "[encoded data removed]",
      "text/plain": [
       "<Figure size 432x288 with 1 Axes>"
      ]
     },
     "metadata": {
      "needs_background": "light"
     },
     "output_type": "display_data"
    }
   ],
   "source": [
    "plt.scatter(y_test, y_pred)\n",
    "plt.show()"
   ]
  },
  {
   "cell_type": "markdown",
   "id": "122b4962",
   "metadata": {},
   "source": [
    "## Writing Predictions File"
   ]
  },
  {
   "cell_type": "code",
   "execution_count": 10,
   "id": "718874d2",
   "metadata": {},
   "outputs": [
    {
     "name": "stdout",
     "output_type": "stream",
     "text": [
      "[[ 2.91816626 -0.48772236  1.01599907 ...  0.80657583 -1.59755122\n",
      "   1.04106182]\n",
      " [-0.40339151 -0.48772236  0.40609801 ... -1.13534664  0.44105193\n",
      "  -0.89473812]\n",
      " [-0.4131781  -0.48772236  0.11573841 ...  1.17646583  0.44105193\n",
      "  -0.50084979]\n",
      " ...\n",
      " [-0.41001449  2.08745172 -1.37837329 ... -0.0719129   0.39094481\n",
      "  -0.68167397]\n",
      " [-0.40317611 -0.48772236 -0.37597609 ...  1.13022958  0.34007019\n",
      "   0.20142086]\n",
      " [-0.13356344 -0.48772236  1.2319449  ... -1.73641788 -2.93893082\n",
      "   0.48877712]]\n"
     ]
    }
   ],
   "source": [
    "df_test = np.loadtxt('boston_x_test.csv', delimiter = ',')\n",
    "print(df_test) "
   ]
  },
  {
   "cell_type": "code",
   "execution_count": 11,
   "id": "8512cd54",
   "metadata": {},
   "outputs": [
    {
     "name": "stdout",
     "output_type": "stream",
     "text": [
      "[11.74440059 27.41044636 17.92554315 22.59158363 20.89122421 12.9767811\n",
      " 28.97867438 27.91106581 19.60829144 23.40710246 23.28404523 18.06487336\n",
      " 19.26670804 21.69733795 51.20096303 18.14025984 23.58559532 22.36451577\n",
      " 17.35649262 31.41007976 21.96956568 21.25360176 37.76122611 30.49010762\n",
      " 36.2360365  14.93480337 21.55009256 30.38383862 20.48159636 28.05240918\n",
      " 17.76163927 25.00812065 19.98327754 22.84048048  9.2166131  23.97221074\n",
      " 22.45044409 20.6034706  22.22243428  9.7589695  15.57735639 23.9091634\n",
      " 26.66470252 20.1015188  20.9739255   6.97225582 41.46031278 24.62739102\n",
      " 34.17114232 12.93473271 15.2759654  45.8227038  13.78020163 21.70849508\n",
      " 16.78088136 19.6688136  20.80068583 21.50085244 15.67865572 15.23724818\n",
      " 14.68571694 28.14242256 23.17377246 23.10843797 13.95439411 14.66907326\n",
      " 32.88311796 15.05810026 21.7889421  21.38962569 26.39802786 22.20909419\n",
      " 18.60648937  7.2268694  40.07353334 21.96449031 25.20390866 24.3672767\n",
      " 12.01387128 33.17051814 21.14496623 20.3552626  20.77760349 16.87903564\n",
      " 17.00413623 37.64733898 27.2834612   8.89953653 22.7285519  16.22560797\n",
      " 21.07632934 21.10814308 19.57187819 10.83525801 21.58948297 25.6706777\n",
      " 46.1148432  19.02221135 35.14760508 22.8275837  23.59011442 21.46745677\n",
      " 21.73236709 27.03894724 11.98088727 24.56298212 22.11185865 43.22834851\n",
      " 23.25099961 14.55031044 22.79459099 16.26431338 18.85927345 16.21083337\n",
      " 44.3502459  17.06331271 20.29439017 24.48168385 22.08070356 19.23420732\n",
      " 14.23653565 33.59692614 22.99434309 21.86568173 22.54819095 20.22559401\n",
      " 17.07257343]\n"
     ]
    }
   ],
   "source": [
    "new_y_Pred = grad_alg1.predict(df_test)\n",
    "print(new_y_Pred)"
   ]
  },
  {
   "cell_type": "code",
   "execution_count": null,
   "id": "f4addfff",
   "metadata": {},
   "outputs": [],
   "source": [
    "'''with open('Boston_result.csv', 'w') as out:\n",
    "    out_data = csv.writer(out, delimiter = ',')\n",
    "    out_data.writerow(new_y_Pred)\n",
    "print('Done')'''"
   ]
  },
  {
   "cell_type": "code",
   "execution_count": 12,
   "id": "fc4e2612",
   "metadata": {},
   "outputs": [],
   "source": [
    "np.savetxt(\"Boston_result.csv\",new_y_Pred,delimiter=\",\",fmt='%f')"
   ]
  }
 ],
 "metadata": {
  "kernelspec": {
   "display_name": "Python 3 (ipykernel)",
   "language": "python",
   "name": "python3"
  },
  "language_info": {
   "codemirror_mode": {
    "name": "ipython",
    "version": 3
   },
   "file_extension": ".py",
   "mimetype": "text/x-python",
   "name": "python",
   "nbconvert_exporter": "python",
   "pygments_lexer": "ipython3",
   "version": "3.9.12"
  }
 },
 "nbformat": 4,
 "nbformat_minor": 5
}
