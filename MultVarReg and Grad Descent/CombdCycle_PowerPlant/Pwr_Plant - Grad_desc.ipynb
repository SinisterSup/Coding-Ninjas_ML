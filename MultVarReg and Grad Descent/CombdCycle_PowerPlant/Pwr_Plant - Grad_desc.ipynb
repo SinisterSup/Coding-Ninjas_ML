{
 "cells": [
  {
   "cell_type": "code",
   "execution_count": 1,
   "id": "1d8f9550",
   "metadata": {},
   "outputs": [],
   "source": [
    "import pandas as pd\n",
    "import numpy as np\n",
    "import matplotlib.pyplot as plt\n",
    "from sklearn import model_selection"
   ]
  },
  {
   "cell_type": "code",
   "execution_count": 2,
   "id": "3c6ad254",
   "metadata": {},
   "outputs": [],
   "source": [
    "dataframe = pd.read_csv('(Grad Desc)Power_Plnt_train.csv')\n",
    "\n",
    "x = dataframe.drop(dataframe.columns[[-1]], axis = 1, inplace = False)\n",
    "X = x.to_numpy()\n",
    "\n",
    "EP = dataframe.drop(dataframe.iloc[:, 0:4], inplace = False, axis = 1)\n",
    "Y = EP.to_numpy()\n",
    "Y = np.reshape(Y, -1)"
   ]
  },
  {
   "cell_type": "code",
   "execution_count": null,
   "id": "98e4bfba",
   "metadata": {},
   "outputs": [],
   "source": [
    "print(x)\n",
    "print(EP)"
   ]
  },
  {
   "cell_type": "code",
   "execution_count": 3,
   "id": "9bb2ea55",
   "metadata": {},
   "outputs": [
    {
     "name": "stdout",
     "output_type": "stream",
     "text": [
      "[[   8.58   38.38 1021.03   84.37]\n",
      " [  21.79   58.2  1017.21   66.74]\n",
      " [  16.64   48.92 1011.55   78.76]\n",
      " ...\n",
      " [  29.8    69.34 1009.36   64.74]\n",
      " [  16.37   54.3  1017.94   63.63]\n",
      " [  30.11   62.04 1010.69   47.96]]\n",
      "[482.26 446.94 452.56 ... 437.65 459.97 444.42]\n"
     ]
    }
   ],
   "source": [
    "print(X)\n",
    "print(Y)"
   ]
  },
  {
   "cell_type": "code",
   "execution_count": 4,
   "id": "ba6aa995",
   "metadata": {},
   "outputs": [],
   "source": [
    "x_train, x_test, y_train, y_test = model_selection.train_test_split(X, Y)"
   ]
  },
  {
   "cell_type": "code",
   "execution_count": 5,
   "id": "aa9505ba",
   "metadata": {},
   "outputs": [
    {
     "name": "stdout",
     "output_type": "stream",
     "text": [
      "(5382, 4)\n",
      "(1794, 4)\n",
      "(5382,)\n",
      "(1794,)\n"
     ]
    }
   ],
   "source": [
    "print(x_train.shape)\n",
    "print(x_test.shape)\n",
    "print(y_train.shape)\n",
    "print(y_test.shape)"
   ]
  },
  {
   "cell_type": "markdown",
   "id": "e7732a14",
   "metadata": {},
   "source": [
    "## Using sklearn inbuilt GradientBoostingRegression"
   ]
  },
  {
   "cell_type": "code",
   "execution_count": 6,
   "id": "ab447818",
   "metadata": {},
   "outputs": [],
   "source": [
    "from sklearn.ensemble import GradientBoostingRegressor\n",
    "grad_alg2 = GradientBoostingRegressor()"
   ]
  },
  {
   "cell_type": "code",
   "execution_count": 7,
   "id": "283f0702",
   "metadata": {},
   "outputs": [
    {
     "data": {
      "text/plain": [
       "GradientBoostingRegressor()"
      ]
     },
     "execution_count": 7,
     "metadata": {},
     "output_type": "execute_result"
    }
   ],
   "source": [
    "grad_alg2.fit(x_train, y_train)"
   ]
  },
  {
   "cell_type": "code",
   "execution_count": 8,
   "id": "f5b23056",
   "metadata": {},
   "outputs": [
    {
     "name": "stdout",
     "output_type": "stream",
     "text": [
      "[456.40292334 433.66314438 456.51752012 ... 434.28297705 434.19909636\n",
      " 472.29181543]\n"
     ]
    }
   ],
   "source": [
    "y_pred_CCPP = grad_alg2.predict(x_test)\n",
    "print(y_pred_CCPP)"
   ]
  },
  {
   "cell_type": "code",
   "execution_count": 9,
   "id": "3ddbb66f",
   "metadata": {},
   "outputs": [
    {
     "data": {
      "image/png": "[encoded data removed]",
      "text/plain": [
       "<Figure size 432x288 with 1 Axes>"
      ]
     },
     "metadata": {
      "needs_background": "light"
     },
     "output_type": "display_data"
    }
   ],
   "source": [
    "plt.scatter(y_test, y_pred_CCPP)\n",
    "plt.show()"
   ]
  },
  {
   "cell_type": "markdown",
   "id": "e970a4e8",
   "metadata": {},
   "source": [
    "### Reading Test File and Writing Prediction"
   ]
  },
  {
   "cell_type": "code",
   "execution_count": 10,
   "id": "2aaa7e51",
   "metadata": {},
   "outputs": [
    {
     "name": "stdout",
     "output_type": "stream",
     "text": [
      "2392\n"
     ]
    }
   ],
   "source": [
    "dataf_test = np.loadtxt('(Grad Desc)Power_Plnt_test.csv', delimiter = ',')\n",
    "print(len(dataf_test))"
   ]
  },
  {
   "cell_type": "code",
   "execution_count": 11,
   "id": "e0dad2fe",
   "metadata": {},
   "outputs": [
    {
     "name": "stdout",
     "output_type": "stream",
     "text": [
      "[470.11646429 472.88537525 435.39325188 ... 437.47109134 452.10561693\n",
      " 445.7846477 ]\n"
     ]
    }
   ],
   "source": [
    "ans_y_Pred = grad_alg2.predict(dataf_test)\n",
    "print(ans_y_Pred)"
   ]
  },
  {
   "cell_type": "code",
   "execution_count": 12,
   "id": "29998ca7",
   "metadata": {},
   "outputs": [],
   "source": [
    "np.savetxt(\"CCPP_result.csv\",ans_y_Pred,delimiter=\",\",fmt='%f')"
   ]
  }
 ],
 "metadata": {
  "kernelspec": {
   "display_name": "Python 3 (ipykernel)",
   "language": "python",
   "name": "python3"
  },
  "language_info": {
   "codemirror_mode": {
    "name": "ipython",
    "version": 3
   },
   "file_extension": ".py",
   "mimetype": "text/x-python",
   "name": "python",
   "nbconvert_exporter": "python",
   "pygments_lexer": "ipython3",
   "version": "3.9.12"
  }
 },
 "nbformat": 4,
 "nbformat_minor": 5
}
