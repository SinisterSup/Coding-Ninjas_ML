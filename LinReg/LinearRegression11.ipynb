{
 "cells": [
  {
   "cell_type": "code",
   "execution_count": 1,
   "id": "069efd0a",
   "metadata": {},
   "outputs": [],
   "source": [
    "import csv\n",
    "import pandas as pd\n",
    "import numpy as np\n",
    "import matplotlib.pyplot as plt\n",
    "from sklearn import model_selection\n",
    "from sklearn.linear_model import LinearRegression"
   ]
  },
  {
   "cell_type": "code",
   "execution_count": 2,
   "id": "f5c4864d",
   "metadata": {
    "scrolled": true
   },
   "outputs": [
    {
     "name": "stdout",
     "output_type": "stream",
     "text": [
      "[[-0.04910502 -0.04464164  0.16085492 ...  0.03430886  0.02801651\n",
      "   0.01134862]\n",
      " [-0.07090025  0.05068012 -0.08919748 ... -0.00259226 -0.01290794\n",
      "  -0.05492509]\n",
      " [ 0.00175052 -0.04464164 -0.07087468 ... -0.03949338 -0.02251217\n",
      "   0.00720652]\n",
      " ...\n",
      " [ 0.02354575 -0.04464164  0.0703187  ... -0.00259226 -0.01919705\n",
      "  -0.00936191]\n",
      " [ 0.01628068  0.05068012  0.07247433 ... -0.00259226 -0.02364456\n",
      "   0.06105391]\n",
      " [-0.00914709  0.05068012 -0.03099563 ... -0.00259226  0.00620932\n",
      "   0.02791705]]\n",
      "[346 104  49 180 110  72  68 216  47 296  65  96  67  52 100 202 128  63\n",
      " 281 152 124 245 101 113  48 197 186 132 245  91  43 101 111 199 220 281\n",
      " 217  93 174 150 206  61  55 118  53 275 215 142  90  65 200  96 249 200\n",
      " 155 170 141 179 225  61 103 131 158 275 246  97 302  91 178  51 170 104\n",
      " 168 257 182  71 220 241 192 220 220 141  89 144 150 135 200  39  25 185\n",
      "  52  92  63 152  69  68 274 279 236 168 143 135 123 277  60  72  72 109\n",
      "  86  92  99  48 170 283 129  75 270 272  31 262 232 191 140 233 196 263\n",
      "  88  84 137 128  78 140 252  55 104 235  37 122  72 144 138 253  90  53\n",
      " 198 145  73 252  77 295 243  83 212 185 126  68 210 107 200  69  98 242\n",
      " 163 172  40 109  39 202 131 261  71 200  60 198 198 107 252 144 108  64\n",
      "  83  67 146  84  96 270  80 182 214 127 143 222  50  85 115 243 281 258\n",
      " 114  57  94 136  88 178  94  81  42 102 139  74  69 308 200 242 158 174\n",
      "  66  78 127 132 201 178 202  66 248 237 120 111  99  96 180 341 219 131\n",
      " 141  89  59 147  44 336  47 272 317 161  64  78 111 208 190 244 246  48\n",
      " 275 182 248  59 178 113 109 142  59 110 128  95  65 115 276  85 183  58\n",
      "  71 162 225 306 137  85  77  72 166 310  79 195 321 160 283  75 167 191\n",
      "  71 297 185 134 233 151  83 258  54  55 189  70 310 181 172 235 275 259\n",
      "  88  74  91 104 173 179 148 168 124 164 214 263  52  52 160  88  94 109\n",
      "  53 265 233  63 288 131  42]\n"
     ]
    }
   ],
   "source": [
    "df1 = pd.read_csv('training_diabetes_x_y_train.csv')\n",
    "x = df1.drop(['Y'], axis = 1)\n",
    "X = x.to_numpy()\n",
    "print(X)\n",
    "y = df1.drop(df1.iloc[:, 0:10], inplace = False, axis = 1)\n",
    "Y = y.to_numpy()\n",
    "Y = np.reshape(Y, -1)\n",
    "print(Y)"
   ]
  },
  {
   "cell_type": "code",
   "execution_count": 3,
   "id": "ce0c909e",
   "metadata": {},
   "outputs": [
    {
     "name": "stdout",
     "output_type": "stream",
     "text": [
      "          age       sex       bmi        bp        s1        s2        s3  \\\n",
      "0   -0.049105 -0.044642  0.160855 -0.046985 -0.029088 -0.019790 -0.047082   \n",
      "1   -0.070900  0.050680 -0.089197 -0.074528 -0.042848 -0.025739 -0.032356   \n",
      "2    0.001751 -0.044642 -0.070875 -0.022885 -0.001569 -0.001001  0.026550   \n",
      "3    0.048974  0.050680  0.081097  0.021872  0.043837  0.064134 -0.054446   \n",
      "4    0.041708  0.050680  0.061696 -0.040099 -0.013953  0.006202 -0.028674   \n",
      "..        ...       ...       ...       ...       ...       ...       ...   \n",
      "326  0.012648 -0.044642 -0.020218 -0.015999  0.012191  0.021233 -0.076536   \n",
      "327  0.019913 -0.044642 -0.057941 -0.057314 -0.001569 -0.012587  0.074412   \n",
      "328  0.023546 -0.044642  0.070319  0.025315 -0.034592 -0.014466 -0.032356   \n",
      "329  0.016281  0.050680  0.072474  0.076958 -0.008449  0.005575 -0.006584   \n",
      "330 -0.009147  0.050680 -0.030996 -0.026328 -0.011201 -0.001001 -0.021311   \n",
      "\n",
      "           s4        s5        s6  \n",
      "0    0.034309  0.028017  0.011349  \n",
      "1   -0.002592 -0.012908 -0.054925  \n",
      "2   -0.039493 -0.022512  0.007207  \n",
      "3    0.071210  0.032433  0.048628  \n",
      "4   -0.002592 -0.014956  0.011349  \n",
      "..        ...       ...       ...  \n",
      "326  0.108111  0.059881 -0.021788  \n",
      "327 -0.039493 -0.061177 -0.075636  \n",
      "328 -0.002592 -0.019197 -0.009362  \n",
      "329 -0.002592 -0.023645  0.061054  \n",
      "330 -0.002592  0.006209  0.027917  \n",
      "\n",
      "[331 rows x 10 columns]\n",
      "       Y\n",
      "0    346\n",
      "1    104\n",
      "2     49\n",
      "3    180\n",
      "4    110\n",
      "..   ...\n",
      "326  233\n",
      "327   63\n",
      "328  288\n",
      "329  131\n",
      "330   42\n",
      "\n",
      "[331 rows x 1 columns]\n"
     ]
    }
   ],
   "source": [
    "print(x)\n",
    "print(y)"
   ]
  },
  {
   "cell_type": "code",
   "execution_count": 4,
   "id": "ee604dcb",
   "metadata": {},
   "outputs": [],
   "source": [
    "x_train, x_test, y_train, y_test = model_selection.train_test_split(X, Y)"
   ]
  },
  {
   "cell_type": "code",
   "execution_count": 5,
   "id": "17f2cd2c",
   "metadata": {
    "scrolled": true
   },
   "outputs": [
    {
     "name": "stdout",
     "output_type": "stream",
     "text": [
      "(248, 10)\n",
      "(83, 10)\n",
      "(248,)\n",
      "(83,)\n"
     ]
    }
   ],
   "source": [
    "print(x_train.shape)\n",
    "print(x_test.shape)\n",
    "print(y_train.shape)\n",
    "print(y_test.shape)\n"
   ]
  },
  {
   "cell_type": "code",
   "execution_count": 6,
   "id": "cec6942b",
   "metadata": {},
   "outputs": [
    {
     "data": {
      "text/plain": [
       "LinearRegression()"
      ]
     },
     "execution_count": 6,
     "metadata": {},
     "output_type": "execute_result"
    }
   ],
   "source": [
    "alg = LinearRegression()\n",
    "alg.fit(x_train, y_train)"
   ]
  },
  {
   "cell_type": "code",
   "execution_count": 7,
   "id": "ee6623cf",
   "metadata": {},
   "outputs": [],
   "source": [
    "y_pred = alg.predict(x_test)"
   ]
  },
  {
   "cell_type": "code",
   "execution_count": 8,
   "id": "b057b82a",
   "metadata": {},
   "outputs": [
    {
     "data": {
      "image/png": "[encoded data removed]",
      "text/plain": [
       "<Figure size 432x288 with 1 Axes>"
      ]
     },
     "metadata": {
      "needs_background": "light"
     },
     "output_type": "display_data"
    }
   ],
   "source": [
    "plt.scatter(y_test, y_pred)\n",
    "plt.show()"
   ]
  },
  {
   "cell_type": "markdown",
   "id": "93db26c8",
   "metadata": {},
   "source": [
    "## Writing Predicted Data onto Test.csv \n",
    "### Predicted Y_Pred by testing X_test "
   ]
  },
  {
   "cell_type": "code",
   "execution_count": 9,
   "id": "9708d0ec",
   "metadata": {},
   "outputs": [
    {
     "name": "stdout",
     "output_type": "stream",
     "text": [
      "          age       sex       bmi        bp        s1        s2        s3  \\\n",
      "0    0.023546  0.050680 -0.037463 -0.046985 -0.091006 -0.075530 -0.032356   \n",
      "1   -0.078165 -0.044642 -0.073030 -0.057314 -0.084126 -0.074277 -0.024993   \n",
      "2   -0.030942  0.050680  0.001339 -0.005671  0.064477  0.049416 -0.047082   \n",
      "3   -0.005515  0.050680  0.001339 -0.084857 -0.011201 -0.016658  0.048640   \n",
      "4   -0.020045 -0.044642 -0.084886 -0.026328 -0.035968 -0.034194  0.041277   \n",
      "..        ...       ...       ...       ...       ...       ...       ...   \n",
      "106  0.009016  0.050680  0.069241  0.059744  0.017694 -0.023234 -0.047082   \n",
      "107  0.005383 -0.044642  0.049840  0.097616 -0.015328 -0.016345 -0.006584   \n",
      "108  0.009016 -0.044642 -0.012673  0.028758 -0.018080 -0.005072 -0.047082   \n",
      "109  0.019913 -0.044642 -0.034229  0.055153  0.067229  0.074155 -0.006584   \n",
      "110  0.016281  0.050680  0.009961 -0.043542 -0.096510 -0.094632 -0.039719   \n",
      "\n",
      "           s4        s5        s6  \n",
      "0   -0.039493 -0.030751 -0.013504  \n",
      "1   -0.039493 -0.018118 -0.083920  \n",
      "2    0.108111  0.083797  0.003064  \n",
      "3   -0.039493 -0.041180 -0.088062  \n",
      "4   -0.051671 -0.082381 -0.046641  \n",
      "..        ...       ...       ...  \n",
      "106  0.034309  0.103292  0.073480  \n",
      "107 -0.002592  0.017037 -0.013504  \n",
      "108  0.034309  0.023375 -0.005220  \n",
      "109  0.032833  0.024725  0.069338  \n",
      "110 -0.039493  0.017037  0.007207  \n",
      "\n",
      "[111 rows x 10 columns]\n"
     ]
    }
   ],
   "source": [
    "df2 = pd.read_csv('test_diabetes_x_test.csv')\n",
    "fnl_X_test = df2.to_numpy()\n",
    "print(df2)"
   ]
  },
  {
   "cell_type": "code",
   "execution_count": 10,
   "id": "d681c104",
   "metadata": {
    "scrolled": false
   },
   "outputs": [
    {
     "name": "stdout",
     "output_type": "stream",
     "text": [
      "[109.04697363 107.71677666 181.18997914  84.91971785  49.61086449\n",
      "  99.94346335 159.16521832  30.85572079 115.85333556 160.02564208\n",
      " 139.68192962  90.14698862 139.98683589 142.75934738 153.53679151\n",
      " 172.72411494 107.3674203  106.9234187  101.65541557 170.20856072\n",
      " 164.86392056 102.10909679 257.1594526  152.35348508 214.05981181\n",
      " 173.45578981 211.79485341  66.13115977 186.28754317 203.41938419\n",
      " 223.87794884 172.09345206 119.51255315 180.04652258  76.0017617\n",
      "  62.53168359 112.41869913 159.02350174 153.26862612 205.6647287\n",
      " 115.62076974 156.04979306  81.68720051 116.59213133 140.01095348\n",
      " 152.76301968  80.57183253  74.56296044 125.75796068 266.69376358\n",
      " 217.13479315 244.04278181 172.53501975 187.57069099 169.69261162\n",
      " 201.02834023 214.96796096 180.67185069 180.38472187 109.41072978\n",
      " 276.42005257  94.77858091 291.96557475 122.39785456  75.66689701\n",
      " 185.53947643 145.26136297 164.28496015  37.1776222  248.7572775\n",
      " 215.56160402  99.5656793  219.9488656  188.08170913 184.33502794\n",
      " 170.61740975 197.20815562 107.0388621  202.98699959 246.07564396\n",
      " 119.52724352 122.28904334 145.08031502 212.77285494 155.33842784\n",
      " 141.81259576 155.58770552 119.11931291 131.43154329 118.33886388\n",
      " 205.81097049 172.63625331 127.29088743  52.16662248 235.41981501\n",
      " 188.48623233 195.12403343  78.6909674  193.88846506 214.36169899\n",
      " 112.83557442  84.86835955 130.94929525 243.18312757 165.98213989\n",
      " 131.84620459 248.29031774 237.51688063 193.4947373  168.20716882\n",
      " 168.8444219 ]\n"
     ]
    }
   ],
   "source": [
    "new_y_Pred = alg.predict(fnl_X_test)\n",
    "print(new_y_Pred)"
   ]
  },
  {
   "cell_type": "code",
   "execution_count": 11,
   "id": "2b5f18a0",
   "metadata": {},
   "outputs": [
    {
     "name": "stdout",
     "output_type": "stream",
     "text": [
      "Done\n"
     ]
    }
   ],
   "source": [
    "with open('result.csv', 'w') as out:\n",
    "    out_data = csv.writer(out, delimiter = ',')\n",
    "    out_data.writerow(new_y_Pred)\n",
    "    '''for val in new_y_Pred:\n",
    "        print(val)\n",
    "        out_data.writerow(val)'''\n",
    "print('Done')\n",
    "    "
   ]
  },
  {
   "cell_type": "code",
   "execution_count": 13,
   "id": "aaf6296f",
   "metadata": {},
   "outputs": [],
   "source": [
    "np.savetxt(\"result_corrected.csv\",new_y_Pred,delimiter=\",\",fmt='%f')"
   ]
  }
 ],
 "metadata": {
  "kernelspec": {
   "display_name": "Python 3 (ipykernel)",
   "language": "python",
   "name": "python3"
  },
  "language_info": {
   "codemirror_mode": {
    "name": "ipython",
    "version": 3
   },
   "file_extension": ".py",
   "mimetype": "text/x-python",
   "name": "python",
   "nbconvert_exporter": "python",
   "pygments_lexer": "ipython3",
   "version": "3.9.12"
  }
 },
 "nbformat": 4,
 "nbformat_minor": 5
}
