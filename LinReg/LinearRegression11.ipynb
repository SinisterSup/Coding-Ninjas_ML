{
 "cells": [
  {
   "cell_type": "code",
   "execution_count": 71,
   "id": "069efd0a",
   "metadata": {},
   "outputs": [],
   "source": [
    "import csv\n",
    "import pandas as pd\n",
    "import numpy as np\n",
    "import matplotlib.pyplot as plt\n",
    "from sklearn import model_selection\n",
    "from sklearn.linear_model import LinearRegression"
   ]
  },
  {
   "cell_type": "code",
   "execution_count": 72,
   "id": "f5c4864d",
   "metadata": {
    "scrolled": true
   },
   "outputs": [
    {
     "name": "stdout",
     "output_type": "stream",
     "text": [
      "[[-0.04910502  0.16085492 -0.04698506 ...  0.03430886  0.02801651\n",
      "   0.01134862]\n",
      " [-0.07090025 -0.08919748 -0.07452802 ... -0.00259226 -0.01290794\n",
      "  -0.05492509]\n",
      " [ 0.00175052 -0.07087468 -0.02288496 ... -0.03949338 -0.02251217\n",
      "   0.00720652]\n",
      " ...\n",
      " [ 0.02354575  0.0703187   0.02531523 ... -0.00259226 -0.01919705\n",
      "  -0.00936191]\n",
      " [ 0.01628068  0.07247433  0.07695829 ... -0.00259226 -0.02364456\n",
      "   0.06105391]\n",
      " [-0.00914709 -0.03099563 -0.02632784 ... -0.00259226  0.00620932\n",
      "   0.02791705]]\n",
      "[346 104  49 180 110  72  68 216  47 296  65  96  67  52 100 202 128  63\n",
      " 281 152 124 245 101 113  48 197 186 132 245  91  43 101 111 199 220 281\n",
      " 217  93 174 150 206  61  55 118  53 275 215 142  90  65 200  96 249 200\n",
      " 155 170 141 179 225  61 103 131 158 275 246  97 302  91 178  51 170 104\n",
      " 168 257 182  71 220 241 192 220 220 141  89 144 150 135 200  39  25 185\n",
      "  52  92  63 152  69  68 274 279 236 168 143 135 123 277  60  72  72 109\n",
      "  86  92  99  48 170 283 129  75 270 272  31 262 232 191 140 233 196 263\n",
      "  88  84 137 128  78 140 252  55 104 235  37 122  72 144 138 253  90  53\n",
      " 198 145  73 252  77 295 243  83 212 185 126  68 210 107 200  69  98 242\n",
      " 163 172  40 109  39 202 131 261  71 200  60 198 198 107 252 144 108  64\n",
      "  83  67 146  84  96 270  80 182 214 127 143 222  50  85 115 243 281 258\n",
      " 114  57  94 136  88 178  94  81  42 102 139  74  69 308 200 242 158 174\n",
      "  66  78 127 132 201 178 202  66 248 237 120 111  99  96 180 341 219 131\n",
      " 141  89  59 147  44 336  47 272 317 161  64  78 111 208 190 244 246  48\n",
      " 275 182 248  59 178 113 109 142  59 110 128  95  65 115 276  85 183  58\n",
      "  71 162 225 306 137  85  77  72 166 310  79 195 321 160 283  75 167 191\n",
      "  71 297 185 134 233 151  83 258  54  55 189  70 310 181 172 235 275 259\n",
      "  88  74  91 104 173 179 148 168 124 164 214 263  52  52 160  88  94 109\n",
      "  53 265 233  63 288 131  42]\n"
     ]
    }
   ],
   "source": [
    "df1 = pd.read_csv('training_diabetes_x_y_train.csv')\n",
    "x = df1.drop(['sex', 'Y'], axis = 1)\n",
    "X = x.to_numpy()\n",
    "print(X)\n",
    "y = df1.drop(df1.iloc[:, 0:10], inplace = False, axis = 1)\n",
    "Y = y.to_numpy()\n",
    "Y = np.reshape(Y, -1)\n",
    "print(Y)"
   ]
  },
  {
   "cell_type": "code",
   "execution_count": 73,
   "id": "ce0c909e",
   "metadata": {},
   "outputs": [
    {
     "name": "stdout",
     "output_type": "stream",
     "text": [
      "          age       bmi        bp        s1        s2        s3        s4  \\\n",
      "0   -0.049105  0.160855 -0.046985 -0.029088 -0.019790 -0.047082  0.034309   \n",
      "1   -0.070900 -0.089197 -0.074528 -0.042848 -0.025739 -0.032356 -0.002592   \n",
      "2    0.001751 -0.070875 -0.022885 -0.001569 -0.001001  0.026550 -0.039493   \n",
      "3    0.048974  0.081097  0.021872  0.043837  0.064134 -0.054446  0.071210   \n",
      "4    0.041708  0.061696 -0.040099 -0.013953  0.006202 -0.028674 -0.002592   \n",
      "..        ...       ...       ...       ...       ...       ...       ...   \n",
      "326  0.012648 -0.020218 -0.015999  0.012191  0.021233 -0.076536  0.108111   \n",
      "327  0.019913 -0.057941 -0.057314 -0.001569 -0.012587  0.074412 -0.039493   \n",
      "328  0.023546  0.070319  0.025315 -0.034592 -0.014466 -0.032356 -0.002592   \n",
      "329  0.016281  0.072474  0.076958 -0.008449  0.005575 -0.006584 -0.002592   \n",
      "330 -0.009147 -0.030996 -0.026328 -0.011201 -0.001001 -0.021311 -0.002592   \n",
      "\n",
      "           s5        s6  \n",
      "0    0.028017  0.011349  \n",
      "1   -0.012908 -0.054925  \n",
      "2   -0.022512  0.007207  \n",
      "3    0.032433  0.048628  \n",
      "4   -0.014956  0.011349  \n",
      "..        ...       ...  \n",
      "326  0.059881 -0.021788  \n",
      "327 -0.061177 -0.075636  \n",
      "328 -0.019197 -0.009362  \n",
      "329 -0.023645  0.061054  \n",
      "330  0.006209  0.027917  \n",
      "\n",
      "[331 rows x 9 columns]\n",
      "       Y\n",
      "0    346\n",
      "1    104\n",
      "2     49\n",
      "3    180\n",
      "4    110\n",
      "..   ...\n",
      "326  233\n",
      "327   63\n",
      "328  288\n",
      "329  131\n",
      "330   42\n",
      "\n",
      "[331 rows x 1 columns]\n"
     ]
    }
   ],
   "source": [
    "print(x)\n",
    "print(y)"
   ]
  },
  {
   "cell_type": "code",
   "execution_count": 75,
   "id": "ee604dcb",
   "metadata": {},
   "outputs": [],
   "source": [
    "x_train, x_test, y_train, y_test = model_selection.train_test_split(X, Y)"
   ]
  },
  {
   "cell_type": "code",
   "execution_count": 76,
   "id": "17f2cd2c",
   "metadata": {
    "scrolled": true
   },
   "outputs": [
    {
     "name": "stdout",
     "output_type": "stream",
     "text": [
      "(248, 9)\n",
      "(83, 9)\n",
      "(248,)\n",
      "(83,)\n"
     ]
    }
   ],
   "source": [
    "print(x_train.shape)\n",
    "print(x_test.shape)\n",
    "print(y_train.shape)\n",
    "print(y_test.shape)\n"
   ]
  },
  {
   "cell_type": "code",
   "execution_count": 77,
   "id": "cec6942b",
   "metadata": {},
   "outputs": [
    {
     "data": {
      "text/plain": [
       "LinearRegression()"
      ]
     },
     "execution_count": 77,
     "metadata": {},
     "output_type": "execute_result"
    }
   ],
   "source": [
    "alg = LinearRegression()\n",
    "alg.fit(x_train, y_train)"
   ]
  },
  {
   "cell_type": "code",
   "execution_count": 78,
   "id": "ee6623cf",
   "metadata": {},
   "outputs": [],
   "source": [
    "y_pred = alg.predict(x_test)"
   ]
  },
  {
   "cell_type": "code",
   "execution_count": 79,
   "id": "b057b82a",
   "metadata": {},
   "outputs": [
    {
     "data": {
      "image/png": "[encoded data removed]",
      "text/plain": [
       "<Figure size 432x288 with 1 Axes>"
      ]
     },
     "metadata": {
      "needs_background": "light"
     },
     "output_type": "display_data"
    }
   ],
   "source": [
    "plt.scatter(y_test, y_pred)\n",
    "plt.show()"
   ]
  },
  {
   "cell_type": "markdown",
   "id": "93db26c8",
   "metadata": {},
   "source": [
    "## Writing Predicted Data onto Test.csv \n",
    "### Predicted Y_Pred by testing X_test "
   ]
  },
  {
   "cell_type": "code",
   "execution_count": 80,
   "id": "9708d0ec",
   "metadata": {},
   "outputs": [
    {
     "name": "stdout",
     "output_type": "stream",
     "text": [
      "          age       bmi        bp        s1        s2        s3        s4  \\\n",
      "0    0.023546 -0.037463 -0.046985 -0.091006 -0.075530 -0.032356 -0.039493   \n",
      "1   -0.078165 -0.073030 -0.057314 -0.084126 -0.074277 -0.024993 -0.039493   \n",
      "2   -0.030942  0.001339 -0.005671  0.064477  0.049416 -0.047082  0.108111   \n",
      "3   -0.005515  0.001339 -0.084857 -0.011201 -0.016658  0.048640 -0.039493   \n",
      "4   -0.020045 -0.084886 -0.026328 -0.035968 -0.034194  0.041277 -0.051671   \n",
      "..        ...       ...       ...       ...       ...       ...       ...   \n",
      "106  0.009016  0.069241  0.059744  0.017694 -0.023234 -0.047082  0.034309   \n",
      "107  0.005383  0.049840  0.097616 -0.015328 -0.016345 -0.006584 -0.002592   \n",
      "108  0.009016 -0.012673  0.028758 -0.018080 -0.005072 -0.047082  0.034309   \n",
      "109  0.019913 -0.034229  0.055153  0.067229  0.074155 -0.006584  0.032833   \n",
      "110  0.016281  0.009961 -0.043542 -0.096510 -0.094632 -0.039719 -0.039493   \n",
      "\n",
      "           s5        s6  \n",
      "0   -0.030751 -0.013504  \n",
      "1   -0.018118 -0.083920  \n",
      "2    0.083797  0.003064  \n",
      "3   -0.041180 -0.088062  \n",
      "4   -0.082381 -0.046641  \n",
      "..        ...       ...  \n",
      "106  0.103292  0.073480  \n",
      "107  0.017037 -0.013504  \n",
      "108  0.023375 -0.005220  \n",
      "109  0.024725  0.069338  \n",
      "110  0.017037  0.007207  \n",
      "\n",
      "[111 rows x 9 columns]\n"
     ]
    }
   ],
   "source": [
    "df2 = pd.read_csv('test_diabetes_x_test.csv')\n",
    "newx_test = df2.drop(['sex'], axis = 1)\n",
    "fnl_X_test = newx_test.to_numpy()\n",
    "print(newx_test)"
   ]
  },
  {
   "cell_type": "code",
   "execution_count": 81,
   "id": "d681c104",
   "metadata": {
    "scrolled": false
   },
   "outputs": [
    {
     "name": "stdout",
     "output_type": "stream",
     "text": [
      "[110.56768937  92.6192315  199.03466244 102.2492726   40.39272476\n",
      "  86.19519148 164.30181452  53.34855361 106.48088926 149.87435737\n",
      " 151.56355544 100.82803503 122.36011741 128.22529203 141.58063102\n",
      " 157.87020268  97.14711967  98.26431552 103.4284651  171.9011084\n",
      " 155.57504132  96.32847985 235.23264045 141.79622582 227.13512424\n",
      " 179.07157376 201.9475537   64.84962283 194.19218615 188.86265644\n",
      " 222.9365158  171.94777547 105.81321315 186.64077641  66.47694421\n",
      "  57.61812601 101.90781788 141.71288903 160.83644152 212.32988495\n",
      " 105.18177255 163.07486269  70.88939538 123.97084886 153.8672417\n",
      " 139.03547679  91.64575544  91.99870674 135.05134203 240.73298982\n",
      " 198.7082243  256.0983729  174.16820407 188.18200911 179.01229186\n",
      " 179.98871937 193.83167495 164.261777   179.8257754  106.60600828\n",
      " 263.88994725  99.46167209 275.94728925 124.63057458  90.02744346\n",
      " 160.35032929 131.0527993  157.99456529  49.03520956 236.95228806\n",
      " 197.44116639 121.5699506  230.82661197 177.71006478 193.03963364\n",
      " 176.88296757 192.62457994  98.78124397 182.34936335 228.02480959\n",
      " 112.01172453 129.10912298 141.95622076 210.87729561 146.0535982\n",
      " 150.99560548 151.47535252 115.64695742 115.34470153 123.70279865\n",
      " 186.9797437  176.72880888 113.98875711  46.50945595 218.61164171\n",
      " 184.22899964 192.30274503  90.06681445 202.87276692 228.67677976\n",
      " 118.07140452  82.17524204 122.28980215 245.40741771 156.65546845\n",
      " 138.81937897 253.03716584 215.33196976 173.85119528 148.74314022\n",
      " 169.39461574]\n"
     ]
    }
   ],
   "source": [
    "new_y_Pred = alg.predict(fnl_X_test)\n",
    "print(new_y_Pred)"
   ]
  },
  {
   "cell_type": "code",
   "execution_count": 82,
   "id": "2b5f18a0",
   "metadata": {},
   "outputs": [
    {
     "name": "stdout",
     "output_type": "stream",
     "text": [
      "Done\n"
     ]
    }
   ],
   "source": [
    "with open('result.csv', 'w') as out:\n",
    "    out_data = csv.writer(out, delimiter = ',')\n",
    "    out_data.writerow(new_y_Pred)\n",
    "    '''for val in new_y_Pred:\n",
    "        print(val)\n",
    "        out_data.writerow(val)'''\n",
    "print('Done')\n",
    "    "
   ]
  },
  {
   "cell_type": "code",
   "execution_count": 83,
   "id": "aaf6296f",
   "metadata": {},
   "outputs": [],
   "source": [
    "np.savetxt(\"result_corrected.csv\",new_y_Pred,delimiter=\",\",fmt='%f')"
   ]
  }
 ],
 "metadata": {
  "kernelspec": {
   "display_name": "Python 3 (ipykernel)",
   "language": "python",
   "name": "python3"
  },
  "language_info": {
   "codemirror_mode": {
    "name": "ipython",
    "version": 3
   },
   "file_extension": ".py",
   "mimetype": "text/x-python",
   "name": "python",
   "nbconvert_exporter": "python",
   "pygments_lexer": "ipython3",
   "version": "3.9.12"
  }
 },
 "nbformat": 4,
 "nbformat_minor": 5
}
